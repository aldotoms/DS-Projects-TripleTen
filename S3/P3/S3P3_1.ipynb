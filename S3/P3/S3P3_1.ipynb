{
 "cells": [
  {
   "cell_type": "markdown",
   "metadata": {},
   "source": [
    "¡Hola, Tom!\n",
    "\n",
    "Mi nombre es Tonatiuh Cruz. Me complace revisar tu proyecto hoy.\n",
    "\n",
    "Al identificar cualquier error inicialmente, simplemente los destacaré. Te animo a localizar y abordar los problemas de forma independiente como parte de tu preparación para un rol como data-scientist. En un entorno profesional, tu líder de equipo seguiría un enfoque similar. Si encuentras la tarea desafiante, proporcionaré una pista más específica en la próxima iteración.\n",
    "\n",
    "Encontrarás mis comentarios a continuación - **por favor no los muevas, modifiques o elimines**.\n",
    "\n",
    "Puedes encontrar mis comentarios en cajas verdes, amarillas o rojas como esta:\n",
    "\n",
    "<div class=\"alert alert-block alert-success\">\n",
    "<b>Comentario del revisor</b> <a class=\"tocSkip\"></a>\n",
    "\n",
    "Éxito. Todo está hecho correctamente.\n",
    "</div>\n",
    "\n",
    "<div class=\"alert alert-block alert-warning\">\n",
    "<b>Comentario del revisor</b> <a class=\"tocSkip\"></a>\n",
    "\n",
    "Observaciones. Algunas recomendaciones.\n",
    "</div>\n",
    "\n",
    "<div class=\"alert alert-block alert-danger\">\n",
    "<b>Comentario del revisor</b> <a class=\"tocSkip\"></a>\n",
    "\n",
    "Necesita corrección. El bloque requiere algunas correcciones. El trabajo no puede ser aceptado con comentarios en rojo.\n",
    "</div>\n",
    "\n",
    "Puedes responderme utilizando esto:\n",
    "\n",
    "<div class=\"alert alert-block alert-info\">\n",
    "<b>Respuesta del estudiante.</b> <a class=\"tocSkip\"></a>\n",
    "</div>"
   ]
  },
  {
   "cell_type": "markdown",
   "metadata": {},
   "source": [
    "<div class=\"alert alert-block alert-success\">\n",
    "<b>Resumen de la revisión 1</b> <a class=\"tocSkip\"></a>\n",
    "\n",
    "Hola, Tom! Has hecho un excelente trabajo al realizar el proyecto, usaste diferentes herramientas apredidas en el curso.Ya solamente te dejo algunos comentarios para terminar de complementar los análisis. \n",
    "\n",
    "Sigue con el excelente trabajo!\n",
    "</div>"
   ]
  },
  {
   "cell_type": "markdown",
   "metadata": {
    "id": "E0vqbgi9ay0H"
   },
   "source": [
    "# Déjame escuchar la música"
   ]
  },
  {
   "cell_type": "markdown",
   "metadata": {
    "id": "fhq_eyov_Zcs"
   },
   "source": [
    "# Contenido <a id='back'></a>\n",
    "\n",
    "* [Introducción](#intro)\n",
    "* [Etapa 1. Descripción de los datos](#data_review)\n",
    "    * [Conclusiones](#data_review_conclusions)\n",
    "* [Etapa 2. Preprocesamiento de datos](#data_preprocessing)\n",
    "    * [2.1 Estilo del encabezado](#header_style)\n",
    "    * [2.2 Valores ausentes](#missing_values)\n",
    "    * [2.3 Duplicados](#duplicates)\n",
    "    * [2.4 Conclusiones](#data_preprocessing_conclusions)\n",
    "* [Etapa 3. Prueba de hipótesis](#hypothesis)\n",
    "    * [3.1 Hipótesis 1: actividad de los usuarios y las usuarias en las dos ciudades](#activity)\n",
    "* [Conclusiones](#end)"
   ]
  },
  {
   "cell_type": "markdown",
   "metadata": {},
   "source": [
    "<div class=\"alert alert-block alert-warning\">\n",
    "<b>Comentario del revisor</b> <a class=\"tocSkip\"></a>\n",
    "\n",
    "La tabla de contenidos está bien estructurada, pero sería útil si estuviera enlazada a las secciones correspondientes, de manera que al hacer clic se pueda acceder directamente a cada una. Esto facilitaría la navegación.\n",
    "\n",
    "\n"
   ]
  },
  {
   "cell_type": "markdown",
   "metadata": {},
   "source": [
    "<div class=\"alert alert-block alert-info\">\n",
    "<b>Respuesta del estudiante.</b> <a class=\"tocSkip\"></a>\n",
    "    Hola Tonatiuh, qué tal?\n",
    "    Si había notado que los vínculos no servían pero no le puse atención para repararlos y en realidad no sabía cómo funcionaban hasta ahora que me puse a revisarlos; ya los he reparado y ahora funcionan correctamente.\n",
    "    Lo único que pude notar, es que los nombres de los encabezados se hicieron más grandes y no pude dejarlos del tamaño que tenían originalmente (más chicos) por ser subtítulos.\n",
    "    Muchas gracias por la revisión!\n",
    "    Saludos.\n",
    "</div>"
   ]
  },
  {
   "cell_type": "markdown",
   "metadata": {
    "id": "VUC88oWjTJw2"
   },
   "source": [
    "# Introducción <a id='intro'></a>\n",
    "Como analista de datos, tu trabajo consiste en analizar datos para extraer información valiosa y tomar decisiones basadas en ellos. Esto implica diferentes etapas, como la descripción general de los datos, el preprocesamiento y la prueba de hipótesis.\n",
    "\n",
    "Siempre que investigamos, necesitamos formular hipótesis que después podamos probar. A veces aceptamos estas hipótesis; otras veces, las rechazamos. Para tomar las decisiones correctas, una empresa debe ser capaz de entender si está haciendo las suposiciones correctas.\n",
    "\n",
    "En este proyecto, compararás las preferencias musicales de las ciudades de Springfield y Shelbyville. Estudiarás datos reales de transmisión de música online para probar la hipótesis a continuación y comparar el comportamiento de los usuarios y las usuarias de estas dos ciudades.\n",
    "\n",
    "### Objetivo:\n",
    "Prueba la hipótesis:\n",
    "1. La actividad de los usuarios y las usuarias difiere según el día de la semana y dependiendo de la ciudad.\n",
    "\n",
    "\n",
    "### Etapas\n",
    "Los datos del comportamiento del usuario se almacenan en el archivo `/datasets/music_project_en.csv`. No hay ninguna información sobre la calidad de los datos, así que necesitarás examinarlos antes de probar la hipótesis.\n",
    "\n",
    "Primero, evaluarás la calidad de los datos y verás si los problemas son significativos. Entonces, durante el preprocesamiento de datos, tomarás en cuenta los problemas más críticos.\n",
    "\n",
    "Tu proyecto consistirá en tres etapas:\n",
    " 1. Descripción de los datos.\n",
    " 2. Preprocesamiento de datos.\n",
    " 3. Prueba de hipótesis.\n",
    "\n",
    "\n",
    "\n",
    "\n",
    "\n",
    "\n"
   ]
  },
  {
   "cell_type": "markdown",
   "metadata": {},
   "source": [
    "<div class=\"alert alert-block alert-success\">\n",
    "<b>Comentario del revisor</b> <a class=\"tocSkip\"></a>\n",
    "\n",
    "¡Hola! Excelente trabajo que has hecho al desarrollar la introducción. Esto es crucial para cualquier proyecto, ya que establece una guía clara sobre los pasos a seguir. Tener estos elementos bien definidos desde el principio nos permite trabajar de manera más organizada y eficiente. En un futuro lo podrías complementar con una tabla de contenido. Recuerda intentar agregar este apartado en todos tus proyectos.\n",
    "</div>"
   ]
  },
  {
   "cell_type": "markdown",
   "metadata": {
    "id": "hDt6pg-Rw-1U"
   },
   "source": [
    "[Volver a Contenidos](#back)"
   ]
  },
  {
   "cell_type": "markdown",
   "metadata": {
    "id": "Ml1hmfXC_Zcs"
   },
   "source": [
    "# Etapa 1. Descripción de los datos <a id='data_review'></a>\n",
    "\n",
    "Abre los datos y examínalos."
   ]
  },
  {
   "cell_type": "markdown",
   "metadata": {
    "id": "57eAOGIz_Zcs"
   },
   "source": [
    "Necesitarás `pandas`, así que impórtalo."
   ]
  },
  {
   "cell_type": "code",
   "execution_count": 4,
   "metadata": {
    "id": "AXN7PHPN_Zcs"
   },
   "outputs": [],
   "source": [
    "# Importar pandas\n",
    "import pandas as pd"
   ]
  },
  {
   "cell_type": "markdown",
   "metadata": {
    "id": "SG23P8tt_Zcs"
   },
   "source": [
    "Lee el archivo `music_project_en.csv` de la carpeta `/datasets/` y guárdalo en la variable `df`:"
   ]
  },
  {
   "cell_type": "code",
   "execution_count": 5,
   "metadata": {
    "id": "fFVu7vqh_Zct"
   },
   "outputs": [],
   "source": [
    "# Leer el archivo y almacenarlo en df\n",
    "df = pd.read_csv('/datasets/music_project_en.csv', sep=',')"
   ]
  },
  {
   "cell_type": "markdown",
   "metadata": {},
   "source": [
    "<div class=\"alert alert-block alert-success\">\n",
    "<b>Comentario del revisor:</b> <a class=\"tocSkip\"></a>\n",
    "    \n",
    "Has realizado un excelente trabajo al importar los datos y las bibliotecas necesarias.\n",
    "\n",
    "</div>"
   ]
  },
  {
   "cell_type": "markdown",
   "metadata": {
    "id": "rDoOMd3uTqnZ"
   },
   "source": [
    "Muestra las 10 primeras filas de la tabla:"
   ]
  },
  {
   "cell_type": "code",
   "execution_count": 6,
   "metadata": {
    "id": "oWTVX3gW_Zct",
    "scrolled": true
   },
   "outputs": [
    {
     "data": {
      "text/html": [
       "<div>\n",
       "<style scoped>\n",
       "    .dataframe tbody tr th:only-of-type {\n",
       "        vertical-align: middle;\n",
       "    }\n",
       "\n",
       "    .dataframe tbody tr th {\n",
       "        vertical-align: top;\n",
       "    }\n",
       "\n",
       "    .dataframe thead th {\n",
       "        text-align: right;\n",
       "    }\n",
       "</style>\n",
       "<table border=\"1\" class=\"dataframe\">\n",
       "  <thead>\n",
       "    <tr style=\"text-align: right;\">\n",
       "      <th></th>\n",
       "      <th>userID</th>\n",
       "      <th>Track</th>\n",
       "      <th>artist</th>\n",
       "      <th>genre</th>\n",
       "      <th>City</th>\n",
       "      <th>time</th>\n",
       "      <th>Day</th>\n",
       "    </tr>\n",
       "  </thead>\n",
       "  <tbody>\n",
       "    <tr>\n",
       "      <th>0</th>\n",
       "      <td>FFB692EC</td>\n",
       "      <td>Kamigata To Boots</td>\n",
       "      <td>The Mass Missile</td>\n",
       "      <td>rock</td>\n",
       "      <td>Shelbyville</td>\n",
       "      <td>20:28:33</td>\n",
       "      <td>Wednesday</td>\n",
       "    </tr>\n",
       "    <tr>\n",
       "      <th>1</th>\n",
       "      <td>55204538</td>\n",
       "      <td>Delayed Because of Accident</td>\n",
       "      <td>Andreas Rönnberg</td>\n",
       "      <td>rock</td>\n",
       "      <td>Springfield</td>\n",
       "      <td>14:07:09</td>\n",
       "      <td>Friday</td>\n",
       "    </tr>\n",
       "    <tr>\n",
       "      <th>2</th>\n",
       "      <td>20EC38</td>\n",
       "      <td>Funiculì funiculà</td>\n",
       "      <td>Mario Lanza</td>\n",
       "      <td>pop</td>\n",
       "      <td>Shelbyville</td>\n",
       "      <td>20:58:07</td>\n",
       "      <td>Wednesday</td>\n",
       "    </tr>\n",
       "    <tr>\n",
       "      <th>3</th>\n",
       "      <td>A3DD03C9</td>\n",
       "      <td>Dragons in the Sunset</td>\n",
       "      <td>Fire + Ice</td>\n",
       "      <td>folk</td>\n",
       "      <td>Shelbyville</td>\n",
       "      <td>08:37:09</td>\n",
       "      <td>Monday</td>\n",
       "    </tr>\n",
       "    <tr>\n",
       "      <th>4</th>\n",
       "      <td>E2DC1FAE</td>\n",
       "      <td>Soul People</td>\n",
       "      <td>Space Echo</td>\n",
       "      <td>dance</td>\n",
       "      <td>Springfield</td>\n",
       "      <td>08:34:34</td>\n",
       "      <td>Monday</td>\n",
       "    </tr>\n",
       "    <tr>\n",
       "      <th>5</th>\n",
       "      <td>842029A1</td>\n",
       "      <td>Chains</td>\n",
       "      <td>Obladaet</td>\n",
       "      <td>rusrap</td>\n",
       "      <td>Shelbyville</td>\n",
       "      <td>13:09:41</td>\n",
       "      <td>Friday</td>\n",
       "    </tr>\n",
       "    <tr>\n",
       "      <th>6</th>\n",
       "      <td>4CB90AA5</td>\n",
       "      <td>True</td>\n",
       "      <td>Roman Messer</td>\n",
       "      <td>dance</td>\n",
       "      <td>Springfield</td>\n",
       "      <td>13:00:07</td>\n",
       "      <td>Wednesday</td>\n",
       "    </tr>\n",
       "    <tr>\n",
       "      <th>7</th>\n",
       "      <td>F03E1C1F</td>\n",
       "      <td>Feeling This Way</td>\n",
       "      <td>Polina Griffith</td>\n",
       "      <td>dance</td>\n",
       "      <td>Springfield</td>\n",
       "      <td>20:47:49</td>\n",
       "      <td>Wednesday</td>\n",
       "    </tr>\n",
       "    <tr>\n",
       "      <th>8</th>\n",
       "      <td>8FA1D3BE</td>\n",
       "      <td>L’estate</td>\n",
       "      <td>Julia Dalia</td>\n",
       "      <td>ruspop</td>\n",
       "      <td>Springfield</td>\n",
       "      <td>09:17:40</td>\n",
       "      <td>Friday</td>\n",
       "    </tr>\n",
       "    <tr>\n",
       "      <th>9</th>\n",
       "      <td>E772D5C0</td>\n",
       "      <td>Pessimist</td>\n",
       "      <td>NaN</td>\n",
       "      <td>dance</td>\n",
       "      <td>Shelbyville</td>\n",
       "      <td>21:20:49</td>\n",
       "      <td>Wednesday</td>\n",
       "    </tr>\n",
       "  </tbody>\n",
       "</table>\n",
       "</div>"
      ],
      "text/plain": [
       "     userID                        Track            artist   genre  \\\n",
       "0  FFB692EC            Kamigata To Boots  The Mass Missile    rock   \n",
       "1  55204538  Delayed Because of Accident  Andreas Rönnberg    rock   \n",
       "2    20EC38            Funiculì funiculà       Mario Lanza     pop   \n",
       "3  A3DD03C9        Dragons in the Sunset        Fire + Ice    folk   \n",
       "4  E2DC1FAE                  Soul People        Space Echo   dance   \n",
       "5  842029A1                       Chains          Obladaet  rusrap   \n",
       "6  4CB90AA5                         True      Roman Messer   dance   \n",
       "7  F03E1C1F             Feeling This Way   Polina Griffith   dance   \n",
       "8  8FA1D3BE                     L’estate       Julia Dalia  ruspop   \n",
       "9  E772D5C0                    Pessimist               NaN   dance   \n",
       "\n",
       "        City        time        Day  \n",
       "0  Shelbyville  20:28:33  Wednesday  \n",
       "1  Springfield  14:07:09     Friday  \n",
       "2  Shelbyville  20:58:07  Wednesday  \n",
       "3  Shelbyville  08:37:09     Monday  \n",
       "4  Springfield  08:34:34     Monday  \n",
       "5  Shelbyville  13:09:41     Friday  \n",
       "6  Springfield  13:00:07  Wednesday  \n",
       "7  Springfield  20:47:49  Wednesday  \n",
       "8  Springfield  09:17:40     Friday  \n",
       "9  Shelbyville  21:20:49  Wednesday  "
      ]
     },
     "execution_count": 6,
     "metadata": {},
     "output_type": "execute_result"
    }
   ],
   "source": [
    "# Obtener las 10 primeras filas de la tabla df\n",
    "df.head(10)"
   ]
  },
  {
   "cell_type": "markdown",
   "metadata": {
    "id": "EO73Kwic_Zct"
   },
   "source": [
    "Obtén la información general sobre la tabla con un comando. Conoces el método que muestra la información general que necesitamos."
   ]
  },
  {
   "cell_type": "code",
   "execution_count": 7,
   "metadata": {
    "id": "DSf2kIb-_Zct"
   },
   "outputs": [
    {
     "name": "stdout",
     "output_type": "stream",
     "text": [
      "<class 'pandas.core.frame.DataFrame'>\n",
      "RangeIndex: 65079 entries, 0 to 65078\n",
      "Data columns (total 7 columns):\n",
      " #   Column    Non-Null Count  Dtype \n",
      "---  ------    --------------  ----- \n",
      " 0     userID  65079 non-null  object\n",
      " 1   Track     63736 non-null  object\n",
      " 2   artist    57512 non-null  object\n",
      " 3   genre     63881 non-null  object\n",
      " 4     City    65079 non-null  object\n",
      " 5   time      65079 non-null  object\n",
      " 6   Day       65079 non-null  object\n",
      "dtypes: object(7)\n",
      "memory usage: 3.5+ MB\n"
     ]
    }
   ],
   "source": [
    "# Obtener la información general sobre nuestros datos\n",
    "df.info()"
   ]
  },
  {
   "cell_type": "markdown",
   "metadata": {
    "id": "TaQ2Iwbr_Zct"
   },
   "source": [
    "Estas son nuestras observaciones sobre la tabla. Contiene siete columnas. Almacenan los mismos tipos de datos: `object`.\n",
    "\n",
    "Según la documentación:\n",
    "- `' userID'`: identificador del usuario o la usuaria;\n",
    "- `'Track'`: título de la canción;\n",
    "- `'artist'`: nombre del artista;\n",
    "- `'genre'`: género de la pista;\n",
    "- `'City'`: ciudad del usuario o la usuaria;\n",
    "- `'time'`: la hora exacta en la que se reprodujo la canción;\n",
    "- `'Day'`: día de la semana.\n",
    "\n",
    "Podemos ver tres problemas con el estilo en los encabezados de la tabla:\n",
    "1. Algunos encabezados están en mayúsculas, otros en minúsculas.\n",
    "2. Hay espacios en algunos encabezados.\n",
    "3. Los nombres de las columnas no son muy descriptivos, falta claridad. `Detecta el tercer problema por tu cuenta y descríbelo aquí`.\n",
    "\n",
    "\n"
   ]
  },
  {
   "cell_type": "markdown",
   "metadata": {
    "id": "MCB6-dXG_Zct"
   },
   "source": [
    "# Escribe observaciones de tu parte. Estas son algunas de las preguntas que pueden ser útiles: <a id='data_review_conclusions'></a>\n",
    "\n",
    "`1.   ¿Qué tipo de datos tenemos a nuestra disposición en las filas? ¿Y cómo podemos entender lo que almacenan las columnas?`\n",
    "           \n",
    "`2.   ¿Hay suficientes datos para proporcionar respuestas a nuestra hipótesis o necesitamos más información?`\n",
    "    \n",
    "`3.   ¿Notaste algún problema en los datos, como valores ausentes, duplicados o tipos de datos incorrectos?`"
   ]
  },
  {
   "cell_type": "markdown",
   "metadata": {},
   "source": [
    "1R. En las columnas tenemos datos de tipo object o strings, son datos categóricos los cuales almacenan información descriptiva sobre los gustos preferenciales de música de usuarios de dos ciudades diferentes.\n",
    "\n",
    " 2R. Al parecer si tenemos los datos necesarios para comprobar la hipótesis, ya que tenemos una columna con la ciudad de los uduarios y otra columna con el día de la semana cuando escuchó cada una de las canciones.\n",
    " \n",
    " 3R. Si, en las columnas ['Track', 'artist' y 'genre'] hay vaores ausentes, también se tienen 3,826 líneas duplicadas."
   ]
  },
  {
   "cell_type": "markdown",
   "metadata": {},
   "source": [
    "<div class=\"alert alert-block alert-success\">\n",
    "<b>Comentario del revisor</b> <a class=\"tocSkip\"></a>\n",
    "\n",
    "Muy buen trabajo! Excelentes observaciones de tu parte. </div>"
   ]
  },
  {
   "cell_type": "markdown",
   "metadata": {
    "id": "3eL__vcwViOi"
   },
   "source": [
    "[Volver a Contenidos](#back)"
   ]
  },
  {
   "cell_type": "markdown",
   "metadata": {
    "id": "SjYF6Ub9_Zct"
   },
   "source": [
    "# Etapa 2. Preprocesamiento de datos <a id='data_preprocessing'></a>\n",
    "\n",
    "El objetivo aquí es preparar los datos para que sean analizados.\n",
    "El primer paso es resolver cualquier problema con los encabezados. Luego podemos avanzar a los valores ausentes y duplicados. Empecemos.\n",
    "\n",
    "Corrige el formato en los encabezados de la tabla.\n"
   ]
  },
  {
   "cell_type": "markdown",
   "metadata": {
    "id": "dIaKXr29_Zct"
   },
   "source": [
    "# Estilo del encabezado <a id='header_style'></a>\n",
    "Muestra los encabezados de la tabla (los nombres de las columnas):"
   ]
  },
  {
   "cell_type": "code",
   "execution_count": 8,
   "metadata": {
    "id": "oKOTdF_Q_Zct"
   },
   "outputs": [
    {
     "name": "stdout",
     "output_type": "stream",
     "text": [
      "Index(['  userID', 'Track', 'artist', 'genre', '  City  ', 'time', 'Day'], dtype='object')\n"
     ]
    }
   ],
   "source": [
    "# Muestra los nombres de las columnas\n",
    "print(df.columns)"
   ]
  },
  {
   "cell_type": "markdown",
   "metadata": {
    "id": "zj5534cv_Zct"
   },
   "source": [
    "Cambia los encabezados de la tabla de acuerdo con las reglas del buen estilo:\n",
    "* Todos los caracteres deben ser minúsculas.\n",
    "* Elimina los espacios.\n",
    "* Si el nombre tiene varias palabras, utiliza snake_case."
   ]
  },
  {
   "cell_type": "markdown",
   "metadata": {
    "id": "Xu0zkfe5zNJe"
   },
   "source": [
    "Anteriormente, aprendiste acerca de la forma automática de cambiar el nombre de las columnas. Vamos a aplicarla ahora. Utiliza el bucle for para iterar sobre los nombres de las columnas y poner todos los caracteres en minúsculas. Cuando hayas terminado, vuelve a mostrar los encabezados de la tabla:"
   ]
  },
  {
   "cell_type": "code",
   "execution_count": 9,
   "metadata": {
    "id": "6I_RwwMhzM4e"
   },
   "outputs": [
    {
     "name": "stdout",
     "output_type": "stream",
     "text": [
      "Index(['  userid', 'track', 'artist', 'genre', '  city  ', 'time', 'day'], dtype='object')\n"
     ]
    }
   ],
   "source": [
    "# Bucle en los encabezados poniendo todo en minúsculas\n",
    "new_col_names = []\n",
    "\n",
    "for col in df.columns:\n",
    "    name_lowered = col.lower()\n",
    "    new_col_names.append(name_lowered)\n",
    "\n",
    "df.columns = new_col_names\n",
    "\n",
    "print(df.columns)"
   ]
  },
  {
   "cell_type": "markdown",
   "metadata": {},
   "source": [
    "<div class=\"alert alert-block alert-success\">\n",
    "<b>Comentario del revisor</b> <a class=\"tocSkip\"></a>\n",
    "\n",
    "Gran trabajo en hacer uso de un ciclo for para aplicar la función lower() en todas las columnas d ela base</div>"
   ]
  },
  {
   "cell_type": "markdown",
   "metadata": {
    "id": "pweIRxjSzPYW"
   },
   "source": [
    "Ahora, utilizando el mismo método, elimina los espacios al principio y al final de los nombres de las columnas e imprime los nombres de las columnas nuevamente:"
   ]
  },
  {
   "cell_type": "code",
   "execution_count": 10,
   "metadata": {
    "id": "vVQXbFyJzSYl"
   },
   "outputs": [
    {
     "name": "stdout",
     "output_type": "stream",
     "text": [
      "Index(['userid', 'track', 'artist', 'genre', 'city', 'time', 'day'], dtype='object')\n"
     ]
    }
   ],
   "source": [
    "# Bucle en los encabezados eliminando los espacios\n",
    "new_col_names = []\n",
    "\n",
    "for col in df.columns:\n",
    "    name_stripped = col.strip()\n",
    "    new_col_names.append(name_stripped)\n",
    "\n",
    "df.columns = new_col_names\n",
    "\n",
    "print(df.columns)"
   ]
  },
  {
   "cell_type": "markdown",
   "metadata": {
    "id": "yCb8MW1JzURd"
   },
   "source": [
    "Necesitamos aplicar la regla de snake_case a la columna `userid`. Debe ser `user_id`. Cambia el nombre de esta columna y muestra los nombres de todas las columnas cuando hayas terminado."
   ]
  },
  {
   "cell_type": "code",
   "execution_count": 11,
   "metadata": {
    "id": "ISlFqs5y_Zct"
   },
   "outputs": [],
   "source": [
    "# Cambiar el nombre de la columna \"userid\"\n",
    "columns_new = {\n",
    "    \"userid\": \"user_id\",\n",
    "    }\n",
    "\n",
    "df = df.rename(columns = columns_new)"
   ]
  },
  {
   "cell_type": "markdown",
   "metadata": {
    "id": "1dqbh00J_Zct"
   },
   "source": [
    "Comprueba el resultado. Muestra los encabezados una vez más:"
   ]
  },
  {
   "cell_type": "code",
   "execution_count": 12,
   "metadata": {
    "id": "d4NOAmTW_Zct"
   },
   "outputs": [
    {
     "name": "stdout",
     "output_type": "stream",
     "text": [
      "Index(['user_id', 'track', 'artist', 'genre', 'city', 'time', 'day'], dtype='object')\n"
     ]
    }
   ],
   "source": [
    "# Comprobar el resultado: la lista de encabezados\n",
    "print(df.columns)"
   ]
  },
  {
   "cell_type": "markdown",
   "metadata": {},
   "source": [
    "<div class=\"alert alert-block alert-success\">\n",
    "<b>Comentario del revisor</b> <a class=\"tocSkip\"></a>\n",
    "\n",
    "Muy buen trabajo! Ajustaste todos los elementos</div>"
   ]
  },
  {
   "cell_type": "markdown",
   "metadata": {
    "id": "xYJk6ksJVpOl"
   },
   "source": [
    "[Volver a Contenidos](#back)"
   ]
  },
  {
   "cell_type": "markdown",
   "metadata": {
    "id": "5ISfbcfY_Zct"
   },
   "source": [
    "# Valores ausentes <a id='missing_values'></a>\n",
    " Primero, encuentra el número de valores ausentes en la tabla. Debes utilizar dos métodos en una secuencia para obtener el número de valores ausentes."
   ]
  },
  {
   "cell_type": "code",
   "execution_count": 13,
   "metadata": {
    "id": "RskX29qr_Zct"
   },
   "outputs": [
    {
     "name": "stdout",
     "output_type": "stream",
     "text": [
      "user_id       0\n",
      "track      1343\n",
      "artist     7567\n",
      "genre      1198\n",
      "city          0\n",
      "time          0\n",
      "day           0\n",
      "dtype: int64\n"
     ]
    }
   ],
   "source": [
    "# Calcular el número de valores ausentes\n",
    "print(df.isna().sum())"
   ]
  },
  {
   "cell_type": "markdown",
   "metadata": {
    "id": "qubhgnlO_Zct"
   },
   "source": [
    "No todos los valores ausentes afectan a la investigación. Por ejemplo, los valores ausentes en `track` y `artist` no son cruciales. Simplemente puedes reemplazarlos con valores predeterminados como el string `'unknown'` (desconocido).\n",
    "\n",
    "Pero los valores ausentes en `'genre'` pueden afectar la comparación entre las preferencias musicales de Springfield y Shelbyville. En la vida real, sería útil saber las razones por las cuales hay datos ausentes e intentar recuperarlos. Pero no tenemos esa oportunidad en este proyecto. Así que tendrás que:\n",
    "* rellenar estos valores ausentes con un valor predeterminado;\n",
    "* evaluar cuánto podrían afectar los valores ausentes a tus cómputos;"
   ]
  },
  {
   "cell_type": "markdown",
   "metadata": {
    "id": "fSv2laPA_Zct"
   },
   "source": [
    "Reemplazar los valores ausentes en las columnas `'track'`, `'artist'` y `'genre'` con el string `'unknown'`. Como mostramos anteriormente en las lecciones, la mejor forma de hacerlo es crear una lista que almacene los nombres de las columnas donde se necesita el reemplazo. Luego, utiliza esta lista e itera sobre las columnas donde se necesita el reemplazo haciendo el propio reemplazo."
   ]
  },
  {
   "cell_type": "code",
   "execution_count": 14,
   "metadata": {
    "id": "KplB5qWs_Zct"
   },
   "outputs": [],
   "source": [
    "# Bucle en los encabezados reemplazando los valores ausentes con 'unknown'\n",
    "columns_to_replace = ['track', 'artist', 'genre']\n",
    "\n",
    "for col in columns_to_replace:\n",
    "    df[col].fillna('unknown', inplace=True)"
   ]
  },
  {
   "cell_type": "markdown",
   "metadata": {
    "id": "Ilsm-MZo_Zct"
   },
   "source": [
    "Ahora comprueba el resultado para asegurarte de que después del reemplazo no haya valores ausentes en el conjunto de datos. Para hacer esto, cuenta los valores ausentes nuevamente."
   ]
  },
  {
   "cell_type": "code",
   "execution_count": 15,
   "metadata": {
    "id": "Tq4nYRX4_Zct"
   },
   "outputs": [
    {
     "name": "stdout",
     "output_type": "stream",
     "text": [
      "user_id    0\n",
      "track      0\n",
      "artist     0\n",
      "genre      0\n",
      "city       0\n",
      "time       0\n",
      "day        0\n",
      "dtype: int64\n"
     ]
    }
   ],
   "source": [
    "# Contar valores ausentes\n",
    "print(df.isna().sum())"
   ]
  },
  {
   "cell_type": "markdown",
   "metadata": {},
   "source": [
    "\n",
    "<div class=\"alert alert-block alert-success\">\n",
    "<b>Comentario del revisor</b> <a class=\"tocSkip\"></a>\n",
    "\n",
    "Muy buen trabajo! Ajustaste todos los elementos con valores ausentes y los cambiaste con una etiqueta \"unkown\" que nos permite identificarlos</div>"
   ]
  },
  {
   "cell_type": "markdown",
   "metadata": {
    "id": "74ZIBmq9VrsK"
   },
   "source": [
    "[Volver a Contenidos](#back)"
   ]
  },
  {
   "cell_type": "markdown",
   "metadata": {
    "id": "BWKRtBJ3_Zct"
   },
   "source": [
    "# Duplicados <a id='duplicates'></a>\n",
    "Encuentra el número de duplicados explícitos en la tabla. Una vez más, debes aplicar dos métodos en una secuencia para obtener la cantidad de duplicados explícitos."
   ]
  },
  {
   "cell_type": "code",
   "execution_count": 16,
   "metadata": {
    "id": "36eES_S0_Zct"
   },
   "outputs": [
    {
     "name": "stdout",
     "output_type": "stream",
     "text": [
      "3826\n"
     ]
    }
   ],
   "source": [
    "# Contar duplicados explícitos\n",
    "print(df.duplicated().sum())"
   ]
  },
  {
   "cell_type": "markdown",
   "metadata": {
    "id": "Ot25h6XR_Zct"
   },
   "source": [
    "Ahora, elimina todos los duplicados. Para ello, llama al método que hace exactamente esto."
   ]
  },
  {
   "cell_type": "code",
   "execution_count": 17,
   "metadata": {
    "id": "exFHq6tt_Zct"
   },
   "outputs": [],
   "source": [
    "# Eliminar duplicados explícitos\n",
    "df = df.drop_duplicates().reset_index(drop=True)"
   ]
  },
  {
   "cell_type": "markdown",
   "metadata": {
    "id": "Im2YwBEG_Zct"
   },
   "source": [
    "Comprobemos ahora si eliminamos con éxito todos los duplicados. Cuenta los duplicados explícitos una vez más para asegurarte de haberlos eliminado todos:"
   ]
  },
  {
   "cell_type": "code",
   "execution_count": 18,
   "metadata": {
    "id": "-8PuNWQ0_Zct"
   },
   "outputs": [
    {
     "name": "stdout",
     "output_type": "stream",
     "text": [
      "0\n"
     ]
    }
   ],
   "source": [
    "# Comprobar de nuevo si hay duplicados\n",
    "print(df.duplicated().sum())"
   ]
  },
  {
   "cell_type": "markdown",
   "metadata": {
    "id": "QlFBsxAr_Zct"
   },
   "source": [
    "Ahora queremos deshacernos de los duplicados implícitos en la columna `genre`. Por ejemplo, el nombre de un género se puede escribir de varias formas. Dichos errores también pueden afectar al resultado."
   ]
  },
  {
   "cell_type": "markdown",
   "metadata": {
    "id": "eSjWwsOh_Zct"
   },
   "source": [
    "Para hacerlo, primero mostremos una lista de nombres de género únicos, ordenados en orden alfabético. Para ello:\n",
    "* Extrae la columna `genre` del DataFrame.\n",
    "* Llama al método que devolverá todos los valores únicos en la columna extraída.\n"
   ]
  },
  {
   "cell_type": "code",
   "execution_count": 19,
   "metadata": {
    "id": "JIUcqzZN_Zct"
   },
   "outputs": [
    {
     "name": "stdout",
     "output_type": "stream",
     "text": [
      "['rock' 'pop' 'folk' 'dance' 'rusrap' 'ruspop' 'world' 'electronic'\n",
      " 'unknown' 'alternative' 'children' 'rnb' 'hip' 'jazz' 'postrock' 'latin'\n",
      " 'classical' 'metal' 'reggae' 'triphop' 'blues' 'instrumental' 'rusrock'\n",
      " 'dnb' 'türk' 'post' 'country' 'psychedelic' 'conjazz' 'indie'\n",
      " 'posthardcore' 'local' 'avantgarde' 'punk' 'videogame' 'techno' 'house'\n",
      " 'christmas' 'melodic' 'caucasian' 'reggaeton' 'soundtrack' 'singer' 'ska'\n",
      " 'salsa' 'ambient' 'film' 'western' 'rap' 'beats' \"hard'n'heavy\"\n",
      " 'progmetal' 'minimal' 'tropical' 'contemporary' 'new' 'soul' 'holiday'\n",
      " 'german' 'jpop' 'spiritual' 'urban' 'gospel' 'nujazz' 'folkmetal'\n",
      " 'trance' 'miscellaneous' 'anime' 'hardcore' 'progressive' 'korean'\n",
      " 'numetal' 'vocal' 'estrada' 'tango' 'loungeelectronic' 'classicmetal'\n",
      " 'dubstep' 'club' 'deep' 'southern' 'black' 'folkrock' 'fitness' 'french'\n",
      " 'disco' 'religious' 'hiphop' 'drum' 'extrememetal' 'türkçe'\n",
      " 'experimental' 'easy' 'metalcore' 'modern' 'argentinetango' 'old' 'swing'\n",
      " 'breaks' 'eurofolk' 'stonerrock' 'industrial' 'funk' 'middle' 'variété'\n",
      " 'other' 'adult' 'christian' 'thrash' 'gothic' 'international' 'muslim'\n",
      " 'relax' 'schlager' 'caribbean' 'nu' 'breakbeat' 'comedy' 'chill' 'newage'\n",
      " 'specialty' 'uzbek' 'k-pop' 'balkan' 'chinese' 'meditative' 'dub' 'power'\n",
      " 'death' 'grime' 'arabesk' 'romance' 'flamenco' 'leftfield' 'european'\n",
      " 'tech' 'newwave' 'dancehall' 'mpb' 'piano' 'top' 'bigroom' 'opera'\n",
      " 'celtic' 'tradjazz' 'acoustic' 'epicmetal' 'hip-hop' 'historisch'\n",
      " 'downbeat' 'downtempo' 'africa' 'audiobook' 'jewish' 'sängerportrait'\n",
      " 'deutschrock' 'eastern' 'action' 'future' 'electropop' 'folklore'\n",
      " 'bollywood' 'marschmusik' 'rnr' 'karaoke' 'indian' 'rancheras'\n",
      " 'afrikaans' 'rhythm' 'sound' 'deutschspr' 'trip' 'lovers' 'choral'\n",
      " 'dancepop' 'retro' 'smooth' 'mexican' 'brazilian' 'ïîï' 'mood' 'surf'\n",
      " 'gangsta' 'inspirational' 'idm' 'ethnic' 'bluegrass' 'broadway'\n",
      " 'animated' 'americana' 'karadeniz' 'rockabilly' 'colombian' 'self' 'hop'\n",
      " 'sertanejo' 'japanese' 'canzone' 'lounge' 'sport' 'ragga' 'traditional'\n",
      " 'gitarre' 'frankreich' 'emo' 'laiko' 'cantopop' 'glitch' 'documentary'\n",
      " 'oceania' 'popeurodance' 'dark' 'vi' 'grunge' 'hardstyle' 'samba'\n",
      " 'garage' 'art' 'folktronica' 'entehno' 'mediterranean' 'chamber' 'cuban'\n",
      " 'taraftar' 'gypsy' 'hardtechno' 'shoegazing' 'bossa' 'latino' 'worldbeat'\n",
      " 'malaysian' 'baile' 'ghazal' 'arabic' 'popelectronic' 'acid' 'kayokyoku'\n",
      " 'neoklassik' 'tribal' 'tanzorchester' 'native' 'independent' 'cantautori'\n",
      " 'handsup' 'punjabi' 'synthpop' 'rave' 'französisch' 'quebecois' 'speech'\n",
      " 'soulful' 'jam' 'ram' 'horror' 'orchestral' 'neue' 'roots' 'slow'\n",
      " 'jungle' 'indipop' 'axé' 'fado' 'showtunes' 'arena' 'irish' 'mandopop'\n",
      " 'forró' 'dirty' 'regional']\n",
      "\n",
      "269\n"
     ]
    }
   ],
   "source": [
    "# Inspeccionar los nombres de géneros únicos\n",
    "print(df['genre'].unique())\n",
    "print()\n",
    "print(df['genre'].nunique())"
   ]
  },
  {
   "cell_type": "markdown",
   "metadata": {
    "id": "qej-Qmuo_Zct"
   },
   "source": [
    "Busca en la lista para encontrar duplicados implícitos del género `hiphop`. Estos pueden ser nombres escritos incorrectamente o nombres alternativos para el mismo género.\n",
    "\n",
    "Verás los siguientes duplicados implícitos:\n",
    "* `hip`\n",
    "* `hop`\n",
    "* `hip-hop`\n",
    "\n",
    "Para deshacerte de ellos, crea una función llamada `replace_wrong_genres()` con dos parámetros:\n",
    "* `wrong_genres=`: esta es una lista que contiene todos los valores que necesitas reemplazar.\n",
    "* `correct_genre=`: este es un string que vas a utilizar como reemplazo.\n",
    "\n",
    "Como resultado, la función debería corregir los nombres en la columna `'genre'` de la tabla `df`, es decir, remplazar cada valor de la lista `wrong_genres` por el valor en `correct_genre`.\n",
    "\n",
    "Dentro del cuerpo de la función, utiliza un bucle `'for'` para iterar sobre la lista de géneros incorrectos, extrae la columna `'genre'` y aplica el método `replace` para hacer correcciones."
   ]
  },
  {
   "cell_type": "code",
   "execution_count": 20,
   "metadata": {
    "id": "ErNDkmns_Zct"
   },
   "outputs": [],
   "source": [
    "# Función para reemplazar duplicados implícitos\n",
    "\n",
    "wrong_genres = ['hip', 'hop', 'hip-hop'] # Lista de nombres mal escritos.\n",
    "correct_genre = 'hiphop' # El nombre correcto\n",
    "\n",
    "def replace_wrong_genres(df, wrong_genres, correct_genre):\n",
    "    for wrong_genre in wrong_genres: \n",
    "        df['genre'] = df['genre'].replace(wrong_genres, correct_genre)\n",
    "    return df"
   ]
  },
  {
   "cell_type": "markdown",
   "metadata": {},
   "source": [
    "<div class=\"alert alert-block alert-success\">\n",
    "<b>Comentario del revisor</b> <a class=\"tocSkip\"></a>\n",
    "\n",
    "Excelente trabajo con la función. Con esto nos permitira reemplazar los registros duplicados con los valores que coloquemos dentro del arguneto de la función</div>"
   ]
  },
  {
   "cell_type": "markdown",
   "metadata": {
    "id": "aDoBJxbA_Zct"
   },
   "source": [
    "Ahora, llama a `replace_wrong_genres()` y pásale tales argumentos para que retire los duplicados implícitos (`hip`, `hop` y `hip-hop`) y los reemplace por `hiphop`:"
   ]
  },
  {
   "cell_type": "code",
   "execution_count": 21,
   "metadata": {
    "id": "YN5i2hpmSo09"
   },
   "outputs": [],
   "source": [
    "# Eliminar duplicados implícitos\n",
    "df = replace_wrong_genres(df, wrong_genres, correct_genre)"
   ]
  },
  {
   "cell_type": "markdown",
   "metadata": {
    "id": "zQKF16_RG15m"
   },
   "source": [
    "Asegúrate de que los nombres duplicados han sido eliminados. Muestra la lista de valores únicos de la columna `'genre'` una vez más:"
   ]
  },
  {
   "cell_type": "code",
   "execution_count": 22,
   "metadata": {
    "id": "wvixALnFG15m"
   },
   "outputs": [
    {
     "name": "stdout",
     "output_type": "stream",
     "text": [
      "266\n"
     ]
    }
   ],
   "source": [
    "# Comprobación de duplicados implícitos\n",
    "print(df['genre'].nunique())"
   ]
  },
  {
   "cell_type": "markdown",
   "metadata": {},
   "source": [
    "<div class=\"alert alert-block alert-success\">\n",
    "<b>Comentario del revisor</b> <a class=\"tocSkip\"></a>\n",
    "\n",
    "Muy buen trabajo! Remplazaste los generos incorrectos y eliminaste los duplicados.</div>"
   ]
  },
  {
   "cell_type": "markdown",
   "metadata": {
    "id": "ALgNbvF3VtPA"
   },
   "source": [
    "[Volver a Contenidos](#back)"
   ]
  },
  {
   "cell_type": "markdown",
   "metadata": {
    "id": "jz6a9-7HQUDd"
   },
   "source": [
    "# Tus observaciones <a id='data_preprocessing_conclusions'></a>\n",
    "\n",
    "`Describe brevemente lo que has notado al analizar duplicados, cómo abordaste sus eliminaciones y qué resultados obtuviste.`"
   ]
  },
  {
   "cell_type": "markdown",
   "metadata": {},
   "source": [
    "Al analizar el Data Frame (df), de primer instancia los duplicados explicitos ascendian a la cantidad de 3,826 lineas en todo el df, los cuales fueron eliminados con el método .drop_duplicates() y comprobados nuevamente con el método .duplicated().sum() para asegurarnos de que no hubiese más duplicados.\n",
    "\n",
    "Después de lo anterior, se buscaron duplicados implícitos en la columna de generos llamada 'genre', encontrando un total de 299 valores únicos de los cuales se tenían 3 nombres ['hip', 'hop', 'hip-hop'] que correspondían al mismo genero llamado 'hiphop'; después de corregirlos con una función que reemplazaba los tres nombres por uno sólo, quedaron un total de 266 géneros únicos.\n",
    "\n",
    "Finalmente, se eliminaron los duplicados explicitos e implicitos para asegurar una mejor calidad de la información en el Data Frame."
   ]
  },
  {
   "cell_type": "markdown",
   "metadata": {
    "id": "eK1es74rVujj"
   },
   "source": [
    "[Volver a Contenidos](#back)"
   ]
  },
  {
   "cell_type": "markdown",
   "metadata": {
    "id": "WttZHXH0SqKk"
   },
   "source": [
    "# Etapa 3. Prueba de hipótesis <a id='hypothesis'></a>"
   ]
  },
  {
   "cell_type": "markdown",
   "metadata": {
    "id": "Im936VVi_Zcu"
   },
   "source": [
    "# Hipótesis: comparar el comportamiento del usuario o la usuaria en las dos ciudades <a id='activity'></a>"
   ]
  },
  {
   "cell_type": "markdown",
   "metadata": {
    "id": "nwt_MuaL_Zcu"
   },
   "source": [
    "La hipótesis afirma que existen diferencias en la forma en que los usuarios y las usuarias de Springfield y Shelbyville consumen música. Para comprobar esto, usa los datos de tres días de la semana: lunes, miércoles y viernes.\n",
    "\n",
    "* Agrupa a los usuarios y las usuarias por ciudad.\n",
    "* Compara el número de canciones que cada grupo reprodujo el lunes, el miércoles y el viernes.\n"
   ]
  },
  {
   "cell_type": "markdown",
   "metadata": {
    "id": "8Dw_YMmT_Zcu"
   },
   "source": [
    "Realiza cada cálculo por separado.\n",
    "\n",
    "El primer paso es evaluar la actividad del usuario en cada ciudad. Recuerda las etapas dividir-aplicar-combinar de las que hablamos anteriormente en la lección. Tu objetivo ahora es agrupar los datos por ciudad, aplicar el método apropiado para contar durante la etapa de aplicación y luego encontrar la cantidad de canciones reproducidas en cada grupo especificando la columna para obtener el recuento.\n",
    "\n",
    "A continuación se muestra un ejemplo de cómo debería verse el resultado final:\n",
    "`df.groupby(by='....')['column'].method()`Realiza cada cálculo por separado.\n",
    "\n",
    "Para evaluar la actividad de los usuarios y las usuarias en cada ciudad, agrupa los datos por ciudad y encuentra la cantidad de canciones reproducidas en cada grupo.\n",
    "\n"
   ]
  },
  {
   "cell_type": "code",
   "execution_count": 23,
   "metadata": {
    "id": "0_Qs96oh_Zcu"
   },
   "outputs": [
    {
     "name": "stdout",
     "output_type": "stream",
     "text": [
      "city\n",
      "Shelbyville    18512\n",
      "Springfield    42741\n",
      "Name: track, dtype: int64\n"
     ]
    }
   ],
   "source": [
    "# Contar las canciones reproducidas en cada ciudad\n",
    "print(df.groupby('city')['track'].count())"
   ]
  },
  {
   "cell_type": "markdown",
   "metadata": {
    "id": "t_Qx-3NewAnK"
   },
   "source": [
    "`Comenta tus observaciones aquí`\n",
    "R. Al momento de agrupar las líneas por ciudad y contar el número de tracks o canciones reproducidas, podemos notar que en la ciudad de Springfield han escuchado más de doble de canciones (un total de 42,741) que en la ciudad de Shelbyville (18,512 canciones). Dato interesante."
   ]
  },
  {
   "cell_type": "markdown",
   "metadata": {
    "id": "dzli3w8o_Zcu"
   },
   "source": [
    "Ahora agrupemos los datos por día de la semana y encontremos el número de canciones reproducidas el lunes, miércoles y viernes. Utiliza el mismo método que antes, pero ahora necesitamos una agrupación diferente.\n"
   ]
  },
  {
   "cell_type": "code",
   "execution_count": 24,
   "metadata": {
    "id": "uZMKjiJz_Zcu"
   },
   "outputs": [
    {
     "name": "stdout",
     "output_type": "stream",
     "text": [
      "day\n",
      "Friday       21840\n",
      "Monday       21354\n",
      "Wednesday    18059\n",
      "Name: track, dtype: int64\n"
     ]
    }
   ],
   "source": [
    "# Calcular las canciones reproducidas en cada uno de los tres días\n",
    "print(df.groupby('day')['track'].count())"
   ]
  },
  {
   "cell_type": "markdown",
   "metadata": {
    "id": "cC2tNrlL_Zcu"
   },
   "source": [
    "`Comenta tus observaciones aquí`\n",
    "R. Al agrupar las líneas por día de reporducción y contar el número de canciones, podemos notar que los viernes es cuando las personas escuchan más música (21,840 tracks) en comparación que los demás días de la semana, lunes un total de 21,354 tracks y a los miércoles es cuando escuchan menos música con un total de 18,059 tracks reproducidas; tal vez se deba a que a mitad de semana las personas se encuentran más enfocadas en su trabajo."
   ]
  },
  {
   "cell_type": "markdown",
   "metadata": {
    "id": "POzs8bGa_Zcu"
   },
   "source": [
    "Ya sabes cómo contar entradas agrupándolas por ciudad o día. Ahora necesitas escribir una función que pueda contar entradas según ambos criterios simultáneamente.\n",
    "\n",
    "Crea la función `number_tracks()` para calcular el número de canciones reproducidas en un determinado día **y** ciudad. La función debe aceptar dos parámetros:\n",
    "\n",
    "- `day`: un día de la semana para filtrar. Por ejemplo, `'Monday'` (lunes).\n",
    "- `city`: una ciudad para filtrar. Por ejemplo, `'Springfield'`.\n",
    "\n",
    "Dentro de la función, aplicarás un filtrado consecutivo con indexación lógica.\n",
    "\n",
    "Primero filtra los datos por día y luego filtra la tabla resultante por ciudad.\n",
    "\n",
    "Después de filtrar los datos por dos criterios, cuenta el número de valores de la columna 'user_id' en la tabla resultante. Este recuento representa el número de entradas que estás buscando. Guarda el resultado en una nueva variable y devuélvelo desde la función."
   ]
  },
  {
   "cell_type": "code",
   "execution_count": 25,
   "metadata": {
    "id": "Nz3GdQB1_Zcu"
   },
   "outputs": [],
   "source": [
    "# Declara la función number_tracks() con dos parámetros: day= y city=.\n",
    "def number_tracks(day, city):\n",
    "    \n",
    "    # Almacena las filas del DataFrame donde el valor en la columna 'day' es igual al parámetro day=\n",
    "    df_filtered = df[df['day'] == day]\n",
    "    \n",
    "    # Filtra las filas donde el valor en la columna 'city' es igual al parámetro city=\n",
    "    df_filtered = df_filtered[df_filtered['city'] == city]\n",
    "    \n",
    "    # Extrae la columna 'user_id' de la tabla filtrada y aplica el método count()\n",
    "    df_users = df_filtered['user_id'].count()\n",
    "    \n",
    "    # Devuelve el número de valores de la columna 'user_id'\n",
    "    return df_users"
   ]
  },
  {
   "cell_type": "markdown",
   "metadata": {},
   "source": [
    "<div class=\"alert alert-block alert-success\">\n",
    "<b>Comentario del revisor</b> <a class=\"tocSkip\"></a>\n",
    "\n",
    "Realizaste un gran trabajo con la definición de la función. Como pudiste notar, el desarrollar funciones nos permiten encapsular lógica reutilizable, evitando la repetición de código y facilitando su uso en diferentes partes de un programa o en distintos proyectos.</div>"
   ]
  },
  {
   "cell_type": "markdown",
   "metadata": {
    "id": "ytf7xFrFJQ2r"
   },
   "source": [
    "Llama a `number_tracks()` seis veces, cambiando los valores de los parámetros para que recuperes los datos de ambas ciudades para cada uno de los tres días."
   ]
  },
  {
   "cell_type": "code",
   "execution_count": 26,
   "metadata": {
    "id": "rJcRATNQ_Zcu"
   },
   "outputs": [
    {
     "name": "stdout",
     "output_type": "stream",
     "text": [
      "El número de canciones reproducidas en Springfield el día lunes: 15740\n"
     ]
    }
   ],
   "source": [
    "# El número de canciones reproducidas en Springfield el lunes\n",
    "Springfield_lunes = number_tracks('Monday', 'Springfield')\n",
    "print(f'El número de canciones reproducidas en Springfield el día lunes:', Springfield_lunes)"
   ]
  },
  {
   "cell_type": "code",
   "execution_count": 27,
   "metadata": {
    "id": "hq_ncZ5T_Zcu"
   },
   "outputs": [
    {
     "name": "stdout",
     "output_type": "stream",
     "text": [
      "El número de canciones reproducidas en Shelbyville el día lunes: 5614\n"
     ]
    }
   ],
   "source": [
    "# El número de canciones reproducidas en Shelbyville el lunes\n",
    "Shelbyville_lunes = number_tracks('Monday', 'Shelbyville')\n",
    "print(f'El número de canciones reproducidas en Shelbyville el día lunes:', Shelbyville_lunes)"
   ]
  },
  {
   "cell_type": "code",
   "execution_count": 77,
   "metadata": {
    "id": "_NTy2VPU_Zcu"
   },
   "outputs": [
    {
     "name": "stdout",
     "output_type": "stream",
     "text": [
      "El número de canciones reproducidas en Springfield el día miércoles: 11056\n"
     ]
    }
   ],
   "source": [
    "# El número de canciones reproducidas en Springfield el miércoles\n",
    "Springfield_miercoles = number_tracks('Wednesday', 'Springfield')\n",
    "print(f'El número de canciones reproducidas en Springfield el día miércoles:', Springfield_miercoles)"
   ]
  },
  {
   "cell_type": "code",
   "execution_count": 78,
   "metadata": {
    "id": "j2y3TAwo_Zcu"
   },
   "outputs": [
    {
     "name": "stdout",
     "output_type": "stream",
     "text": [
      "El número de canciones reproducidas en Shelbyville el día miércoles: 7003\n"
     ]
    }
   ],
   "source": [
    "# El número de canciones reproducidas en Shelbyville el miércoles\n",
    "Shelbyville_miercoles = number_tracks('Wednesday', 'Shelbyville')\n",
    "print(f'El número de canciones reproducidas en Shelbyville el día miércoles:', Shelbyville_miercoles)"
   ]
  },
  {
   "cell_type": "code",
   "execution_count": 79,
   "metadata": {
    "id": "vYDw5u_K_Zcu"
   },
   "outputs": [
    {
     "name": "stdout",
     "output_type": "stream",
     "text": [
      "El número de canciones reproducidas en Springfield el día viernes: 15945\n"
     ]
    }
   ],
   "source": [
    "# El número de canciones reproducidas en Springfield el viernes\n",
    "Springfield_viernes = number_tracks('Friday', 'Springfield')\n",
    "print(f'El número de canciones reproducidas en Springfield el día viernes:', Springfield_viernes)"
   ]
  },
  {
   "cell_type": "code",
   "execution_count": 80,
   "metadata": {
    "id": "8_yzFtW3_Zcu"
   },
   "outputs": [
    {
     "name": "stdout",
     "output_type": "stream",
     "text": [
      "El número de canciones reproducidas en Shelbyville el día viernes: 5895\n"
     ]
    }
   ],
   "source": [
    "# El número de canciones reproducidas en Shelbyville el viernes\n",
    "Shelbyville_viernes = number_tracks('Friday', 'Shelbyville')\n",
    "print(f'El número de canciones reproducidas en Shelbyville el día viernes:', Shelbyville_viernes)"
   ]
  },
  {
   "cell_type": "markdown",
   "metadata": {
    "id": "-EgPIHYu_Zcu"
   },
   "source": [
    "**Conclusiones**\n",
    "\n",
    "`Comenta si la hipótesis es correcta o se debe rechazar. Explica tu razonamiento.`\n",
    "R. La hipótesis es correcta, ya que todos los datos analisados muestran cantidades diferentes de reproducciones por día de la semana, es un hecho que ningun día y ningun usuario por ciudad, consume la misma música.\n",
    "\n",
    "Mientras van pasando los días de la semana se muestran diferentes tendencias, siendo los miércoles los días que menos consumen música los usuarios de Springfield (MIN: 11,056 canciones); mientras que los miércoles los usuarios de Shelbyville consumen más música (MAX: 7,003 canciones)."
   ]
  },
  {
   "cell_type": "markdown",
   "metadata": {},
   "source": [
    "<div class=\"alert alert-block alert-success\">\n",
    "<b>Comentario del revisor</b> <a class=\"tocSkip\"></a>\n",
    "\n",
    "Hola! Excelente trabajo con la conclusión. En futuros cursos vas a poder complementar estas pruebas con pruebas estadisticas por las pruebas de diferencias de medias, además vas a poder explorar el desarrollo de gráficas que complementen este análisis. Por ejemplo en este caso podríamos desarrollar una gráfica que muestre la cantidad de canciones por día y otra que muestre la relación por ciudad. Para esto puedes aplicar la función que creaste para obtener la información necesaria para hacer estas gráficas</div>"
   ]
  },
  {
   "cell_type": "markdown",
   "metadata": {
    "id": "p7nFQajCVw5B"
   },
   "source": [
    "[Volver a Contenidos](#back)"
   ]
  },
  {
   "cell_type": "markdown",
   "metadata": {
    "id": "ykKQ0N65_Zcv"
   },
   "source": [
    "# Conclusiones <a id='end'></a>"
   ]
  },
  {
   "cell_type": "markdown",
   "metadata": {
    "id": "tjUwbHb3_Zcv"
   },
   "source": [
    "`Resume aquí tus conclusiones sobre la hipótesis.`\n",
    "R. En conclusión las tendencias del consumo de música son muy variadas, no sólo los usuarios de cada ciudad, ni tampoco los días de la semana; si se realizara un análisis más profundo considerando los generos musicales, artistas, etc., tendriamos una gran variedad de consumo de la música.\n",
    "Sin duda el análisis de los datos es una rama muy interesante."
   ]
  },
  {
   "cell_type": "markdown",
   "metadata": {
    "id": "azLHu64yOIp7"
   },
   "source": [
    "### Nota\n",
    "En proyectos de investigación reales, la prueba de hipótesis estadística es más precisa y cuantitativa. También ten en cuenta que no siempre se pueden sacar conclusiones sobre una ciudad entera a partir de datos de una sola fuente.\n",
    "\n",
    "Aprenderás más sobre la prueba de hipótesis en el sprint de análisis estadístico de datos."
   ]
  },
  {
   "cell_type": "markdown",
   "metadata": {},
   "source": [
    "<div class=\"alert alert-block alert-success\">\n",
    "<b>Comentario general</b> <a class=\"tocSkip\"></a>\n",
    "\n",
    "Tom,  hiciste un muy buen trabajo con el proyecto, pudiste resolver todos los ejericios de una forma adecuada y se nota que hiciste uso de todas las herramientas aprendidas. Además, considero que te ayudo para aprender el uso de algunas funciones que te sirvan en los siguientes cursos. Solamente verifica lo de la tabla de contenidos y no cargar en más de una vez las bases de datos.\n",
    "\n",
    "Exitos en lo que viene, saludos.</div>"
   ]
  },
  {
   "cell_type": "markdown",
   "metadata": {},
   "source": [
    "<div class=\"alert alert-block alert-info\">\n",
    "<b>Respuesta del estudiante.</b> <a class=\"tocSkip\"></a>\n",
    "    Tonatiuh, ya he leido todos tus comentarios y he atendido las observaciones que me hiciste, tanto la reparación de los vínculos en el Índice principal, como no volver a carcgar la lista de géneros más que sólo una vez.\n",
    "    Nuevamente te agradezco la revisión y todos los comentarios, sin duda un excelente ejercicio que me ayuda a aprender y desarrollarme en esta nueva profesión!\n",
    "    Gracias & Saludos,\n",
    "    Tom\n",
    "</div>"
   ]
  },
  {
   "cell_type": "markdown",
   "metadata": {
    "id": "Ju4AHDSgV1FE"
   },
   "source": [
    "[Volver a Contenidos](#back)"
   ]
  }
 ],
 "metadata": {
  "ExecuteTimeLog": [
   {
    "duration": 319,
    "start_time": "2024-10-24T03:13:17.042Z"
   },
   {
    "duration": 2,
    "start_time": "2024-10-24T03:13:21.306Z"
   },
   {
    "duration": 2,
    "start_time": "2024-10-24T03:13:35.961Z"
   },
   {
    "duration": 3,
    "start_time": "2024-10-24T03:13:40.842Z"
   },
   {
    "duration": 6,
    "start_time": "2024-10-24T03:14:52.325Z"
   },
   {
    "duration": 135,
    "start_time": "2024-10-24T03:15:07.409Z"
   },
   {
    "duration": 14,
    "start_time": "2024-10-24T03:15:21.717Z"
   },
   {
    "duration": 23,
    "start_time": "2024-10-24T03:16:48.836Z"
   },
   {
    "duration": 92,
    "start_time": "2024-10-24T03:36:21.460Z"
   },
   {
    "duration": 10,
    "start_time": "2024-10-24T03:36:24.624Z"
   },
   {
    "duration": 21,
    "start_time": "2024-10-24T03:36:29.178Z"
   },
   {
    "duration": 200,
    "start_time": "2024-10-24T04:20:28.021Z"
   },
   {
    "duration": 14,
    "start_time": "2024-10-24T04:20:53.773Z"
   },
   {
    "duration": 11,
    "start_time": "2024-10-24T04:21:00.205Z"
   },
   {
    "duration": 3,
    "start_time": "2024-10-24T04:21:18.431Z"
   },
   {
    "duration": 3,
    "start_time": "2024-10-24T04:21:42.022Z"
   },
   {
    "duration": 424,
    "start_time": "2024-10-24T04:40:29.191Z"
   },
   {
    "duration": 3,
    "start_time": "2024-10-24T04:45:57.205Z"
   },
   {
    "duration": 14,
    "start_time": "2024-10-24T04:48:44.081Z"
   },
   {
    "duration": 4,
    "start_time": "2024-10-24T04:49:06.302Z"
   },
   {
    "duration": 31,
    "start_time": "2024-10-24T05:01:27.182Z"
   },
   {
    "duration": 16,
    "start_time": "2024-10-24T05:01:51.394Z"
   },
   {
    "duration": 15,
    "start_time": "2024-10-24T05:02:09.662Z"
   },
   {
    "duration": 8,
    "start_time": "2024-10-24T05:03:05.136Z"
   },
   {
    "duration": 2,
    "start_time": "2024-10-24T05:03:47.994Z"
   },
   {
    "duration": 90,
    "start_time": "2024-10-24T05:03:53.879Z"
   },
   {
    "duration": 11,
    "start_time": "2024-10-24T05:03:56.772Z"
   },
   {
    "duration": 21,
    "start_time": "2024-10-24T05:04:02.981Z"
   },
   {
    "duration": 3,
    "start_time": "2024-10-24T05:04:16.357Z"
   },
   {
    "duration": 3,
    "start_time": "2024-10-24T05:04:21.134Z"
   },
   {
    "duration": 4,
    "start_time": "2024-10-24T05:04:35.577Z"
   },
   {
    "duration": 3,
    "start_time": "2024-10-24T05:04:45.290Z"
   },
   {
    "duration": 3,
    "start_time": "2024-10-24T05:04:51.345Z"
   },
   {
    "duration": 5,
    "start_time": "2024-10-24T05:04:59.846Z"
   },
   {
    "duration": 4,
    "start_time": "2024-10-24T05:05:04.702Z"
   },
   {
    "duration": 8,
    "start_time": "2024-10-24T05:06:41.520Z"
   },
   {
    "duration": 3,
    "start_time": "2024-10-24T05:06:44.566Z"
   },
   {
    "duration": 6,
    "start_time": "2024-10-24T05:08:37.320Z"
   },
   {
    "duration": 3,
    "start_time": "2024-10-24T05:08:41.391Z"
   },
   {
    "duration": 6,
    "start_time": "2024-10-24T05:08:47.900Z"
   },
   {
    "duration": 3,
    "start_time": "2024-10-24T05:08:50.240Z"
   },
   {
    "duration": 18,
    "start_time": "2024-10-24T05:10:48.437Z"
   },
   {
    "duration": 19,
    "start_time": "2024-10-24T05:19:15.501Z"
   },
   {
    "duration": 14,
    "start_time": "2024-10-24T05:19:20.375Z"
   },
   {
    "duration": 11,
    "start_time": "2024-10-24T05:19:25.750Z"
   },
   {
    "duration": 17,
    "start_time": "2024-10-24T05:19:31.973Z"
   },
   {
    "duration": 11,
    "start_time": "2024-10-24T05:23:32.465Z"
   },
   {
    "duration": 47,
    "start_time": "2024-10-24T05:23:37.872Z"
   },
   {
    "duration": 51,
    "start_time": "2024-10-24T05:25:24.984Z"
   },
   {
    "duration": 45,
    "start_time": "2024-10-24T05:25:46.295Z"
   },
   {
    "duration": 41,
    "start_time": "2024-10-24T05:25:56.306Z"
   },
   {
    "duration": 47,
    "start_time": "2024-10-24T05:28:51.592Z"
   },
   {
    "duration": 41,
    "start_time": "2024-10-24T05:28:54.906Z"
   },
   {
    "duration": 6,
    "start_time": "2024-10-24T05:30:23.059Z"
   },
   {
    "duration": 12,
    "start_time": "2024-10-24T05:35:28.748Z"
   },
   {
    "duration": 15,
    "start_time": "2024-10-24T05:52:16.698Z"
   },
   {
    "duration": 10,
    "start_time": "2024-10-24T05:54:25.563Z"
   },
   {
    "duration": 36,
    "start_time": "2024-10-24T05:55:00.842Z"
   },
   {
    "duration": 15,
    "start_time": "2024-10-24T05:58:44.818Z"
   },
   {
    "duration": 3,
    "start_time": "2024-10-24T06:01:01.067Z"
   },
   {
    "duration": 3,
    "start_time": "2024-10-24T06:03:30.317Z"
   },
   {
    "duration": 18,
    "start_time": "2024-10-24T06:03:33.913Z"
   },
   {
    "duration": 12,
    "start_time": "2024-10-24T06:04:01.146Z"
   },
   {
    "duration": 3,
    "start_time": "2024-10-24T06:04:25.093Z"
   },
   {
    "duration": 21,
    "start_time": "2024-10-24T06:04:27.904Z"
   },
   {
    "duration": 3,
    "start_time": "2024-10-24T06:05:10.669Z"
   },
   {
    "duration": 18,
    "start_time": "2024-10-24T06:05:13.953Z"
   },
   {
    "duration": 3,
    "start_time": "2024-10-24T06:07:04.678Z"
   },
   {
    "duration": 18,
    "start_time": "2024-10-24T06:07:07.715Z"
   },
   {
    "duration": 3,
    "start_time": "2024-10-24T06:08:01.100Z"
   },
   {
    "duration": 13,
    "start_time": "2024-10-24T06:08:03.290Z"
   },
   {
    "duration": 13,
    "start_time": "2024-10-24T06:08:15.099Z"
   },
   {
    "duration": 12,
    "start_time": "2024-10-24T06:08:43.165Z"
   },
   {
    "duration": 13,
    "start_time": "2024-10-24T06:09:02.176Z"
   },
   {
    "duration": 3,
    "start_time": "2024-10-24T06:09:08.574Z"
   },
   {
    "duration": 13,
    "start_time": "2024-10-24T06:09:10.771Z"
   },
   {
    "duration": 3,
    "start_time": "2024-10-24T06:09:44.870Z"
   },
   {
    "duration": 12,
    "start_time": "2024-10-24T06:09:51.739Z"
   },
   {
    "duration": 3,
    "start_time": "2024-10-24T06:16:53.989Z"
   },
   {
    "duration": 19,
    "start_time": "2024-10-24T06:16:56.696Z"
   },
   {
    "duration": 11,
    "start_time": "2024-10-24T06:17:05.050Z"
   },
   {
    "duration": 282,
    "start_time": "2024-10-25T02:37:47.980Z"
   },
   {
    "duration": 126,
    "start_time": "2024-10-25T02:37:54.652Z"
   },
   {
    "duration": 13,
    "start_time": "2024-10-25T02:37:59.568Z"
   },
   {
    "duration": 22,
    "start_time": "2024-10-25T02:38:11.442Z"
   },
   {
    "duration": 3,
    "start_time": "2024-10-25T02:39:36.449Z"
   },
   {
    "duration": 4,
    "start_time": "2024-10-25T02:40:09.821Z"
   },
   {
    "duration": 3,
    "start_time": "2024-10-25T02:40:44.134Z"
   },
   {
    "duration": 7,
    "start_time": "2024-10-25T02:41:05.100Z"
   },
   {
    "duration": 3,
    "start_time": "2024-10-25T02:41:14.319Z"
   },
   {
    "duration": 18,
    "start_time": "2024-10-25T02:41:27.768Z"
   },
   {
    "duration": 11,
    "start_time": "2024-10-25T02:42:24.852Z"
   },
   {
    "duration": 19,
    "start_time": "2024-10-25T02:42:59.089Z"
   },
   {
    "duration": 42,
    "start_time": "2024-10-25T02:43:10.619Z"
   },
   {
    "duration": 50,
    "start_time": "2024-10-25T02:43:15.845Z"
   },
   {
    "duration": 39,
    "start_time": "2024-10-25T02:43:20.467Z"
   },
   {
    "duration": 36,
    "start_time": "2024-10-25T02:43:37.161Z"
   },
   {
    "duration": 4,
    "start_time": "2024-10-25T02:44:24.897Z"
   },
   {
    "duration": 18,
    "start_time": "2024-10-25T02:44:34.366Z"
   },
   {
    "duration": 10,
    "start_time": "2024-10-25T02:44:40.425Z"
   },
   {
    "duration": 495,
    "start_time": "2024-10-25T03:00:18.405Z"
   },
   {
    "duration": 40,
    "start_time": "2024-10-25T03:02:47.526Z"
   },
   {
    "duration": 39,
    "start_time": "2024-10-25T03:03:38.536Z"
   },
   {
    "duration": 3,
    "start_time": "2024-10-25T03:04:33.839Z"
   },
   {
    "duration": 25,
    "start_time": "2024-10-25T03:05:03.684Z"
   },
   {
    "duration": 111,
    "start_time": "2024-10-25T03:06:01.078Z"
   },
   {
    "duration": 13,
    "start_time": "2024-10-25T03:06:25.381Z"
   },
   {
    "duration": 10,
    "start_time": "2024-10-25T03:06:33.807Z"
   },
   {
    "duration": 3,
    "start_time": "2024-10-25T03:16:59.495Z"
   },
   {
    "duration": 9,
    "start_time": "2024-10-25T03:17:13.183Z"
   },
   {
    "duration": 10,
    "start_time": "2024-10-25T03:18:42.575Z"
   },
   {
    "duration": 9,
    "start_time": "2024-10-25T03:29:56.064Z"
   },
   {
    "duration": 38,
    "start_time": "2024-10-25T03:30:30.771Z"
   },
   {
    "duration": 10,
    "start_time": "2024-10-25T03:30:43.231Z"
   },
   {
    "duration": 9,
    "start_time": "2024-10-25T03:31:02.181Z"
   },
   {
    "duration": 2,
    "start_time": "2024-10-25T04:08:54.533Z"
   },
   {
    "duration": 51,
    "start_time": "2024-10-25T04:08:59.176Z"
   },
   {
    "duration": 48,
    "start_time": "2024-10-25T04:10:16.147Z"
   },
   {
    "duration": 3,
    "start_time": "2024-10-25T05:54:21.778Z"
   },
   {
    "duration": 3,
    "start_time": "2024-10-25T05:59:02.490Z"
   },
   {
    "duration": 274,
    "start_time": "2024-10-25T05:59:21.867Z"
   },
   {
    "duration": 3,
    "start_time": "2024-10-25T05:59:41.711Z"
   },
   {
    "duration": 42,
    "start_time": "2024-10-25T06:00:08.041Z"
   },
   {
    "duration": 2,
    "start_time": "2024-10-25T06:02:19.101Z"
   },
   {
    "duration": 91,
    "start_time": "2024-10-25T06:02:23.161Z"
   },
   {
    "duration": 9,
    "start_time": "2024-10-25T06:02:26.622Z"
   },
   {
    "duration": 21,
    "start_time": "2024-10-25T06:02:30.478Z"
   },
   {
    "duration": 3,
    "start_time": "2024-10-25T06:02:41.309Z"
   },
   {
    "duration": 4,
    "start_time": "2024-10-25T06:02:47.090Z"
   },
   {
    "duration": 3,
    "start_time": "2024-10-25T06:02:51.020Z"
   },
   {
    "duration": 6,
    "start_time": "2024-10-25T06:03:03.792Z"
   },
   {
    "duration": 3,
    "start_time": "2024-10-25T06:03:12.516Z"
   },
   {
    "duration": 18,
    "start_time": "2024-10-25T06:03:21.537Z"
   },
   {
    "duration": 10,
    "start_time": "2024-10-25T06:03:31.687Z"
   },
   {
    "duration": 16,
    "start_time": "2024-10-25T06:03:37.125Z"
   },
   {
    "duration": 45,
    "start_time": "2024-10-25T06:03:45.487Z"
   },
   {
    "duration": 47,
    "start_time": "2024-10-25T06:03:49.954Z"
   },
   {
    "duration": 38,
    "start_time": "2024-10-25T06:03:53.021Z"
   },
   {
    "duration": 38,
    "start_time": "2024-10-25T06:03:57.857Z"
   },
   {
    "duration": 3,
    "start_time": "2024-10-25T06:04:04.434Z"
   },
   {
    "duration": 18,
    "start_time": "2024-10-25T06:04:08.161Z"
   },
   {
    "duration": 11,
    "start_time": "2024-10-25T06:04:11.592Z"
   },
   {
    "duration": 40,
    "start_time": "2024-10-25T06:04:19.807Z"
   },
   {
    "duration": 9,
    "start_time": "2024-10-25T06:04:27.530Z"
   },
   {
    "duration": 39,
    "start_time": "2024-10-25T06:04:32.836Z"
   },
   {
    "duration": 10,
    "start_time": "2024-10-25T06:04:38.567Z"
   },
   {
    "duration": 3,
    "start_time": "2024-10-25T06:04:46.352Z"
   },
   {
    "duration": 14,
    "start_time": "2024-10-25T06:04:50.170Z"
   },
   {
    "duration": 12,
    "start_time": "2024-10-25T06:05:03.266Z"
   },
   {
    "duration": 7,
    "start_time": "2024-10-25T06:06:13.670Z"
   },
   {
    "duration": 4,
    "start_time": "2024-10-25T06:06:23.034Z"
   },
   {
    "duration": 3,
    "start_time": "2024-10-25T06:06:54.194Z"
   },
   {
    "duration": 6,
    "start_time": "2024-10-25T06:07:36.257Z"
   },
   {
    "duration": 4,
    "start_time": "2024-10-25T06:07:55.299Z"
   },
   {
    "duration": 3,
    "start_time": "2024-10-25T06:08:01.284Z"
   },
   {
    "duration": 14,
    "start_time": "2024-10-25T06:08:16.244Z"
   },
   {
    "duration": 12,
    "start_time": "2024-10-25T06:09:36.685Z"
   },
   {
    "duration": 12,
    "start_time": "2024-10-25T06:10:21.394Z"
   },
   {
    "duration": 12,
    "start_time": "2024-10-25T06:11:10.951Z"
   },
   {
    "duration": 12,
    "start_time": "2024-10-25T06:11:54.871Z"
   },
   {
    "duration": 12,
    "start_time": "2024-10-25T06:12:15.282Z"
   },
   {
    "duration": 160,
    "start_time": "2024-10-25T18:24:53.115Z"
   },
   {
    "duration": 11,
    "start_time": "2024-10-25T18:25:08.700Z"
   },
   {
    "duration": 12,
    "start_time": "2024-10-25T18:25:21.389Z"
   },
   {
    "duration": 307,
    "start_time": "2024-10-25T18:25:42.809Z"
   },
   {
    "duration": 108,
    "start_time": "2024-10-25T18:25:46.938Z"
   },
   {
    "duration": 12,
    "start_time": "2024-10-25T18:25:49.968Z"
   },
   {
    "duration": 20,
    "start_time": "2024-10-25T18:25:52.880Z"
   },
   {
    "duration": 3,
    "start_time": "2024-10-25T18:26:00.561Z"
   },
   {
    "duration": 4,
    "start_time": "2024-10-25T18:26:05.307Z"
   },
   {
    "duration": 4,
    "start_time": "2024-10-25T18:26:10.391Z"
   },
   {
    "duration": 6,
    "start_time": "2024-10-25T18:26:15.590Z"
   },
   {
    "duration": 3,
    "start_time": "2024-10-25T18:26:17.734Z"
   },
   {
    "duration": 16,
    "start_time": "2024-10-25T18:26:23.574Z"
   },
   {
    "duration": 10,
    "start_time": "2024-10-25T18:26:29.477Z"
   },
   {
    "duration": 17,
    "start_time": "2024-10-25T18:26:33.580Z"
   },
   {
    "duration": 44,
    "start_time": "2024-10-25T18:26:45.382Z"
   },
   {
    "duration": 51,
    "start_time": "2024-10-25T18:26:54.601Z"
   },
   {
    "duration": 40,
    "start_time": "2024-10-25T18:26:57.701Z"
   },
   {
    "duration": 10,
    "start_time": "2024-10-25T18:27:13.665Z"
   },
   {
    "duration": 3,
    "start_time": "2024-10-25T18:27:29.106Z"
   },
   {
    "duration": 20,
    "start_time": "2024-10-25T18:27:34.702Z"
   },
   {
    "duration": 8,
    "start_time": "2024-10-25T18:27:37.316Z"
   },
   {
    "duration": 10,
    "start_time": "2024-10-25T18:28:46.344Z"
   },
   {
    "duration": 9,
    "start_time": "2024-10-25T18:28:56.804Z"
   },
   {
    "duration": 3,
    "start_time": "2024-10-25T18:29:04.957Z"
   },
   {
    "duration": 20,
    "start_time": "2024-10-25T18:29:13.048Z"
   },
   {
    "duration": 11,
    "start_time": "2024-10-25T18:29:15.866Z"
   }
  ],
  "colab": {
   "collapsed_sections": [
    "E0vqbgi9ay0H",
    "VUC88oWjTJw2"
   ],
   "provenance": []
  },
  "kernelspec": {
   "display_name": "Python 3 (ipykernel)",
   "language": "python",
   "name": "python3"
  },
  "language_info": {
   "codemirror_mode": {
    "name": "ipython",
    "version": 3
   },
   "file_extension": ".py",
   "mimetype": "text/x-python",
   "name": "python",
   "nbconvert_exporter": "python",
   "pygments_lexer": "ipython3",
   "version": "3.9.19"
  },
  "toc": {
   "base_numbering": 1,
   "nav_menu": {},
   "number_sections": true,
   "sideBar": true,
   "skip_h1_title": true,
   "title_cell": "Table of Contents",
   "title_sidebar": "Contents",
   "toc_cell": false,
   "toc_position": {},
   "toc_section_display": true,
   "toc_window_display": false
  }
 },
 "nbformat": 4,
 "nbformat_minor": 1
}
