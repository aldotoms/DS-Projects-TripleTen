{
  "cells": [
    {
      "cell_type": "markdown",
      "metadata": {},
      "source": [
        "# Sprint 3 - Week 1 - Class 1\n",
        "\n",
        "Lectura, Visualización y Preprocesamiento\n",
        "\n",
        "# Ejercicio 1: Lectura y Visualización de Datos\n",
        "\n",
        "## E1.1: ¿Cómo se leen archivos en formato CSV y Excel?\n",
        "\n",
        "Podemos usar las bibliotecas `pandas` para leer archivos CSV y Excel.\n",
        "Lee ambos datasets,\n",
        "\n",
        "-   `music.csv`\n",
        "-   `music.xlsx`"
      ],
      "id": "87c60829-7f57-44f2-8bfe-ad14556adba5"
    },
    {
      "cell_type": "code",
      "execution_count": 1,
      "metadata": {},
      "outputs": [],
      "source": [
        "#"
      ],
      "id": "13298abd"
    },
    {
      "cell_type": "markdown",
      "metadata": {},
      "source": [
        "## E1.2 ¿Cómo podemos visualizar información general del dataset?\n",
        "\n",
        "Imprimir:\n",
        "\n",
        "-   Información del dataset\n",
        "-   Primeras 5 filas\n",
        "-   Últimas 5 filas\n",
        "-   Estadísticas descriptivas"
      ],
      "id": "d21265bb-40d4-4046-87eb-33bf3917699b"
    },
    {
      "cell_type": "code",
      "execution_count": 3,
      "metadata": {},
      "outputs": [],
      "source": [
        "#"
      ],
      "id": "9267d01b"
    },
    {
      "cell_type": "markdown",
      "metadata": {},
      "source": [
        "# Ejercicio 2: Preprocesamiento y Análisis Inicial\n",
        "\n",
        "## E2.1: ¿Cómo tratamos valores duplicados, ausentes, y columnas irrelevantes?\n",
        "\n",
        "Utiliza pandas para\n",
        "\n",
        "-   Eliminar duplicados\n",
        "-   Manejar valores ausentes\n",
        "-   Quitar columnas innecesarias. Asume que necesitamos hacer un\n",
        "    análisis anonimizado"
      ],
      "id": "7834809a-2ae5-40ea-926f-bd8441996eec"
    },
    {
      "cell_type": "code",
      "execution_count": 5,
      "metadata": {},
      "outputs": [],
      "source": [
        "#"
      ],
      "id": "2a96d87b"
    },
    {
      "cell_type": "markdown",
      "metadata": {},
      "source": [
        "## E2.2: ¿Cómo agrupamos y ordenamos los datos?\n",
        "\n",
        "Podemos agrupar los datos por columna(s) y calcular métricas como la\n",
        "suma, media, etc. También podemos ordenarlos.\n",
        "\n",
        "-   Agrupar por género y sumar las reproducciones totales\n",
        "-   Ordenar los datos por el total de reproducciones"
      ],
      "id": "de83e0f0-0ace-4c77-aae2-b6f0636fc71d"
    },
    {
      "cell_type": "code",
      "execution_count": 7,
      "metadata": {},
      "outputs": [],
      "source": [
        "#"
      ],
      "id": "73c0247b"
    },
    {
      "cell_type": "markdown",
      "metadata": {},
      "source": [
        "------------------------------------------------------------------------\n",
        "\n",
        "## Notas:\n",
        "\n",
        "-   Asegúrate de tener instaladas las bibliotecas necesarias para leer\n",
        "    archivos usando el comando: `pip install pandas` en la termina.\n",
        "-   Cambia las rutas de los archivos si no están en el mismo directorio."
      ],
      "id": "8eca08be-880a-4c10-876c-9711795ea492"
    }
  ],
  "nbformat": 4,
  "nbformat_minor": 5,
  "metadata": {
    "kernelspec": {
      "name": "python3",
      "display_name": "Python 3 (ipykernel)",
      "language": "python",
      "path": "C:"
    },
    "language_info": {
      "name": "python",
      "codemirror_mode": {
        "name": "ipython",
        "version": "3"
      },
      "file_extension": ".py",
      "mimetype": "text/x-python",
      "nbconvert_exporter": "python",
      "pygments_lexer": "ipython3",
      "version": "3.10.6"
    }
  }
}